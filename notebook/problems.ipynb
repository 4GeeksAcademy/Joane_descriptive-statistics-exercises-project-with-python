{
    "cells": [
        {
            "cell_type": "markdown",
            "id": "ac622319",
            "metadata": {},
            "source": [
                "# Descriptive statistics problems"
            ]
        },
        {
            "cell_type": "markdown",
            "id": "aa8993e4",
            "metadata": {},
            "source": [
                "### Exercise 1"
            ]
        },
        {
            "cell_type": "markdown",
            "id": "5e0ab0d5",
            "metadata": {},
            "source": [
                "We will use Numpy to obtain information to describe statistically.\n",
                "\n",
                "- Generate an array of 100 elements following a normal distribution.\n",
                "- Generate an array of 100 elements following a chi-square distribution with 3 degrees of freedom.\n",
                "- Calculate the main metrics and statistical measures that best describe the two vectors."
            ]
        },
        {
            "cell_type": "code",
            "execution_count": 2,
            "id": "34720ab6",
            "metadata": {},
            "outputs": [
                {
                    "name": "stdout",
                    "output_type": "stream",
                    "text": [
                        "Normal Distribution Array Statistics:\n",
                        "Mean: -0.2090429709337349\n",
                        "Median: -0.10925961449259514\n",
                        "Standard Deviation: 0.9832325430240221\n",
                        "Variance: 0.9667462336614855\n",
                        "Minimum: -2.5710105778763594\n",
                        "Maximum: 2.592967193654162\n",
                        "\n"
                    ]
                }
            ],
            "source": [
                "# TODO\n",
                "import numpy as np\n",
                "\n",
                "# Generate the arrays\n",
                "normal_array = np.random.normal(size=100)\n",
                "chi_square_array = np.random.chisquare(3, size=100)\n",
                "\n",
                "# Calculate\n",
                "print(\"Normal Distribution Array Statistics:\")\n",
                "print(f\"Mean: {np.mean(normal_array)}\")\n",
                "print(f\"Median: {np.median(normal_array)}\")\n",
                "print(f\"Standard Deviation: {np.std(normal_array)}\")\n",
                "print(f\"Variance: {np.var(normal_array)}\")\n",
                "print(f\"Minimum: {np.min(normal_array)}\")\n",
                "print(f\"Maximum: {np.max(normal_array)}\\n\")"
            ]
        },
        {
            "cell_type": "markdown",
            "id": "46c70c3d",
            "metadata": {},
            "source": [
                "### Exercise 2\n",
                "\n",
                "Write a Python program to calculate the standard deviation of the following data:\n",
                "\n",
                "\n",
                "data = [4, 2, 5, 8, 6]\n",
                "```"
            ]
        },
        {
            "cell_type": "code",
            "execution_count": 6,
            "id": "d590308e",
            "metadata": {},
            "outputs": [
                {
                    "name": "stdout",
                    "output_type": "stream",
                    "text": [
                        "Standard Deviation: 2.0\n"
                    ]
                }
            ],
            "source": [
                "# TODO\n",
                "import numpy as np\n",
                "#Data\n",
                "data = [4, 2, 5, 8, 6]\n",
                "standard_deviation = np.std(data)\n",
                "print(\"Standard Deviation:\", standard_deviation)"
            ]
        }
    ],
    "metadata": {
        "interpreter": {
            "hash": "9248718ffe6ce6938b217e69dbcc175ea21f4c6b28a317e96c05334edae734bb"
        },
        "kernelspec": {
            "display_name": "Python 3.9.12 ('ML-BOOTCAMP')",
            "language": "python",
            "name": "python3"
        },
        "language_info": {
            "codemirror_mode": {
                "name": "ipython",
                "version": 3
            },
            "file_extension": ".py",
            "mimetype": "text/x-python",
            "name": "python",
            "nbconvert_exporter": "python",
            "pygments_lexer": "ipython3",
            "version": "3.11.4"
        }
    },
    "nbformat": 4,
    "nbformat_minor": 5
}
